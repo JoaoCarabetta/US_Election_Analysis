{
 "cells": [
  {
   "cell_type": "markdown",
   "metadata": {},
   "source": [
    "Distric of Columbia as DC"
   ]
  },
  {
   "cell_type": "code",
   "execution_count": 2,
   "metadata": {
    "collapsed": true
   },
   "outputs": [],
   "source": [
    "import pandas as pd\n",
    "import numpy as np\n",
    "import seaborn"
   ]
  },
  {
   "cell_type": "code",
   "execution_count": 3,
   "metadata": {
    "collapsed": true
   },
   "outputs": [],
   "source": [
    "def lower(x):\n",
    "    return x.lower()\n",
    "def change(x):\n",
    "    if x in s2abr.keys():\n",
    "        return s2abr[x] \n",
    "    else:\n",
    "        return 'DC'"
   ]
  },
  {
   "cell_type": "code",
   "execution_count": 4,
   "metadata": {
    "collapsed": false
   },
   "outputs": [],
   "source": [
    "s2abr = pd.read_csv('data/state_to_abbr.csv')\n",
    "s2abr['state'] = s2abr['state'].apply(lower)\n",
    "s2abr = s2abr.set_index('state')\n",
    "s2abr = s2abr.to_dict()['abbr']"
   ]
  },
  {
   "cell_type": "markdown",
   "metadata": {},
   "source": [
    "READ AND CLEAN COMPLETE COUNTY LISTY"
   ]
  },
  {
   "cell_type": "code",
   "execution_count": 5,
   "metadata": {
    "collapsed": false
   },
   "outputs": [
    {
     "name": "stdout",
     "output_type": "stream",
     "text": [
      "3143\n"
     ]
    },
    {
     "data": {
      "text/html": [
       "<div>\n",
       "<table border=\"1\" class=\"dataframe\">\n",
       "  <thead>\n",
       "    <tr style=\"text-align: right;\">\n",
       "      <th></th>\n",
       "      <th>Sno</th>\n",
       "      <th>County</th>\n",
       "      <th>State</th>\n",
       "      <th>Rank</th>\n",
       "      <th>Population</th>\n",
       "    </tr>\n",
       "  </thead>\n",
       "  <tbody>\n",
       "    <tr>\n",
       "      <th>0</th>\n",
       "      <td>1</td>\n",
       "      <td>Autauga County</td>\n",
       "      <td>AL</td>\n",
       "      <td>907</td>\n",
       "      <td>55,514</td>\n",
       "    </tr>\n",
       "    <tr>\n",
       "      <th>1</th>\n",
       "      <td>2</td>\n",
       "      <td>Baldwin County</td>\n",
       "      <td>AL</td>\n",
       "      <td>332</td>\n",
       "      <td>190,790</td>\n",
       "    </tr>\n",
       "    <tr>\n",
       "      <th>2</th>\n",
       "      <td>3</td>\n",
       "      <td>Barbour County</td>\n",
       "      <td>AL</td>\n",
       "      <td>1523</td>\n",
       "      <td>27,201</td>\n",
       "    </tr>\n",
       "    <tr>\n",
       "      <th>3</th>\n",
       "      <td>4</td>\n",
       "      <td>Bibb County</td>\n",
       "      <td>AL</td>\n",
       "      <td>1707</td>\n",
       "      <td>22,597</td>\n",
       "    </tr>\n",
       "    <tr>\n",
       "      <th>4</th>\n",
       "      <td>5</td>\n",
       "      <td>Blount County</td>\n",
       "      <td>AL</td>\n",
       "      <td>882</td>\n",
       "      <td>57,826</td>\n",
       "    </tr>\n",
       "  </tbody>\n",
       "</table>\n",
       "</div>"
      ],
      "text/plain": [
       "   Sno          County State  Rank Population\n",
       "0    1  Autauga County    AL   907     55,514\n",
       "1    2  Baldwin County    AL   332    190,790\n",
       "2    3  Barbour County    AL  1523     27,201\n",
       "3    4     Bibb County    AL  1707     22,597\n",
       "4    5   Blount County    AL   882     57,826"
      ]
     },
     "execution_count": 5,
     "metadata": {},
     "output_type": "execute_result"
    }
   ],
   "source": [
    "df_complete = pd.read_csv('data/raw/complete_county.csv')\n",
    "print len(df_complete)\n",
    "\n",
    "# change state name to abbreviation\n",
    "df_complete['State'] = df_complete['State'].map(lambda x: x.replace('_', ''))\n",
    "df_complete['State'] =  df_complete['State'].map(lower)\n",
    "df_complete['State'] = df_complete['State'].map(change)\n",
    "df_complete.head()"
   ]
  },
  {
   "cell_type": "code",
   "execution_count": 6,
   "metadata": {
    "collapsed": false
   },
   "outputs": [
    {
     "data": {
      "text/plain": [
       "3108"
      ]
     },
     "execution_count": 6,
     "metadata": {},
     "output_type": "execute_result"
    }
   ],
   "source": [
    "#remove alaska and hawaii and columbia\n",
    "df_complete = df_complete[df_complete['State'] != 'HI']\n",
    "df_complete = df_complete[df_complete['State'] != 'AK']\n",
    "df_complete = df_complete[df_complete['State'] != 'DC']\n",
    "len(df_complete)"
   ]
  },
  {
   "cell_type": "markdown",
   "metadata": {
    "collapsed": false
   },
   "source": [
    "READ AND CLEAN DISTANCE"
   ]
  },
  {
   "cell_type": "code",
   "execution_count": 7,
   "metadata": {
    "collapsed": false
   },
   "outputs": [
    {
     "data": {
      "text/html": [
       "<div>\n",
       "<table border=\"1\" class=\"dataframe\">\n",
       "  <thead>\n",
       "    <tr style=\"text-align: right;\">\n",
       "      <th></th>\n",
       "      <th>County</th>\n",
       "      <th>State</th>\n",
       "      <th>Rank</th>\n",
       "      <th>Population</th>\n",
       "      <th>latitude</th>\n",
       "      <th>longitude</th>\n",
       "      <th>distance_100000</th>\n",
       "      <th>distance_300000</th>\n",
       "      <th>distance_500000</th>\n",
       "      <th>distance_1000000</th>\n",
       "    </tr>\n",
       "  </thead>\n",
       "  <tbody>\n",
       "    <tr>\n",
       "      <th>0</th>\n",
       "      <td>autauga county</td>\n",
       "      <td>AL</td>\n",
       "      <td>907</td>\n",
       "      <td>55514.0</td>\n",
       "      <td>32.524961</td>\n",
       "      <td>-86.629505</td>\n",
       "      <td>55.468394</td>\n",
       "      <td>120.387228</td>\n",
       "      <td>120.387228</td>\n",
       "      <td>656.514912</td>\n",
       "    </tr>\n",
       "    <tr>\n",
       "      <th>1</th>\n",
       "      <td>baldwin county</td>\n",
       "      <td>AL</td>\n",
       "      <td>332</td>\n",
       "      <td>190790.0</td>\n",
       "      <td>30.607402</td>\n",
       "      <td>-87.718027</td>\n",
       "      <td>0.000000</td>\n",
       "      <td>36.620510</td>\n",
       "      <td>340.608832</td>\n",
       "      <td>601.274988</td>\n",
       "    </tr>\n",
       "    <tr>\n",
       "      <th>2</th>\n",
       "      <td>barbour county</td>\n",
       "      <td>AL</td>\n",
       "      <td>1523</td>\n",
       "      <td>27201.0</td>\n",
       "      <td>31.813697</td>\n",
       "      <td>-85.481079</td>\n",
       "      <td>74.924444</td>\n",
       "      <td>216.820215</td>\n",
       "      <td>234.120887</td>\n",
       "      <td>526.289453</td>\n",
       "    </tr>\n",
       "    <tr>\n",
       "      <th>3</th>\n",
       "      <td>bibb county</td>\n",
       "      <td>AL</td>\n",
       "      <td>1707</td>\n",
       "      <td>22597.0</td>\n",
       "      <td>33.032728</td>\n",
       "      <td>-87.080731</td>\n",
       "      <td>45.862509</td>\n",
       "      <td>65.199386</td>\n",
       "      <td>65.199386</td>\n",
       "      <td>681.752585</td>\n",
       "    </tr>\n",
       "    <tr>\n",
       "      <th>4</th>\n",
       "      <td>blount county</td>\n",
       "      <td>AL</td>\n",
       "      <td>882</td>\n",
       "      <td>57826.0</td>\n",
       "      <td>33.951944</td>\n",
       "      <td>-86.582932</td>\n",
       "      <td>40.717787</td>\n",
       "      <td>47.727390</td>\n",
       "      <td>47.727390</td>\n",
       "      <td>612.043635</td>\n",
       "    </tr>\n",
       "  </tbody>\n",
       "</table>\n",
       "</div>"
      ],
      "text/plain": [
       "           County State  Rank  Population   latitude  longitude  \\\n",
       "0  autauga county    AL   907     55514.0  32.524961 -86.629505   \n",
       "1  baldwin county    AL   332    190790.0  30.607402 -87.718027   \n",
       "2  barbour county    AL  1523     27201.0  31.813697 -85.481079   \n",
       "3     bibb county    AL  1707     22597.0  33.032728 -87.080731   \n",
       "4   blount county    AL   882     57826.0  33.951944 -86.582932   \n",
       "\n",
       "   distance_100000  distance_300000  distance_500000  distance_1000000  \n",
       "0        55.468394       120.387228       120.387228        656.514912  \n",
       "1         0.000000        36.620510       340.608832        601.274988  \n",
       "2        74.924444       216.820215       234.120887        526.289453  \n",
       "3        45.862509        65.199386        65.199386        681.752585  \n",
       "4        40.717787        47.727390        47.727390        612.043635  "
      ]
     },
     "execution_count": 7,
     "metadata": {},
     "output_type": "execute_result"
    }
   ],
   "source": [
    "df_distance = pd.read_csv('data/county_distances.csv')\n",
    "df_distance['County'] = df_distance['County'].apply(lower)\n",
    "df_distance.head()"
   ]
  },
  {
   "cell_type": "markdown",
   "metadata": {},
   "source": [
    "READ AND CLEAN VOTES"
   ]
  },
  {
   "cell_type": "code",
   "execution_count": 8,
   "metadata": {
    "collapsed": false
   },
   "outputs": [],
   "source": [
    "df_votes_raw = pd.read_csv('data/normalised_votes.csv')\n",
    "df_votes_raw = df_votes_raw.drop_duplicates()"
   ]
  },
  {
   "cell_type": "code",
   "execution_count": 9,
   "metadata": {
    "collapsed": false
   },
   "outputs": [],
   "source": [
    "df_votes_raw['State'] = df_votes_raw['State'].map(lambda x: x.replace('-', ' '))\n",
    "df_votes_raw['State'] = df_votes_raw['State'].map(s2abr)\n",
    "df_votes = df_votes_raw "
   ]
  },
  {
   "cell_type": "code",
   "execution_count": 10,
   "metadata": {
    "collapsed": true
   },
   "outputs": [],
   "source": [
    "df_votes = df_votes[df_votes['State'] != 'HI']\n",
    "df_votes = df_votes[df_votes['State'] != 'AK']\n",
    "df_votes = df_votes[df_votes['State'] != 'DC']\n",
    "df_votes = df_votes.reset_index(drop=True)\n"
   ]
  },
  {
   "cell_type": "code",
   "execution_count": 11,
   "metadata": {
    "collapsed": false
   },
   "outputs": [
    {
     "data": {
      "text/html": [
       "<div>\n",
       "<table border=\"1\" class=\"dataframe\">\n",
       "  <thead>\n",
       "    <tr style=\"text-align: right;\">\n",
       "      <th></th>\n",
       "      <th>State</th>\n",
       "      <th>County</th>\n",
       "      <th>Votes_Norm</th>\n",
       "      <th>Trump_Votes</th>\n",
       "      <th>Hillary_Votes</th>\n",
       "      <th>Independent_Votes</th>\n",
       "      <th>Total_Votes</th>\n",
       "      <th>Trump_Perc</th>\n",
       "      <th>Hillary_Perc</th>\n",
       "      <th>Independent_Perc</th>\n",
       "    </tr>\n",
       "  </thead>\n",
       "  <tbody>\n",
       "    <tr>\n",
       "      <th>0</th>\n",
       "      <td>AL</td>\n",
       "      <td>Autauga County</td>\n",
       "      <td>0.494</td>\n",
       "      <td>18110.0</td>\n",
       "      <td>5908.0</td>\n",
       "      <td>643.0</td>\n",
       "      <td>24661.0</td>\n",
       "      <td>73.4</td>\n",
       "      <td>24.0</td>\n",
       "      <td>2.6</td>\n",
       "    </tr>\n",
       "    <tr>\n",
       "      <th>1</th>\n",
       "      <td>AL</td>\n",
       "      <td>Baldwin County</td>\n",
       "      <td>0.578</td>\n",
       "      <td>72780.0</td>\n",
       "      <td>18409.0</td>\n",
       "      <td>2901.0</td>\n",
       "      <td>94090.0</td>\n",
       "      <td>77.4</td>\n",
       "      <td>19.6</td>\n",
       "      <td>3.1</td>\n",
       "    </tr>\n",
       "    <tr>\n",
       "      <th>2</th>\n",
       "      <td>AL</td>\n",
       "      <td>Barbour County</td>\n",
       "      <td>0.056</td>\n",
       "      <td>5431.0</td>\n",
       "      <td>4848.0</td>\n",
       "      <td>111.0</td>\n",
       "      <td>10390.0</td>\n",
       "      <td>52.3</td>\n",
       "      <td>46.7</td>\n",
       "      <td>1.1</td>\n",
       "    </tr>\n",
       "    <tr>\n",
       "      <th>3</th>\n",
       "      <td>AL</td>\n",
       "      <td>Bibb County</td>\n",
       "      <td>0.556</td>\n",
       "      <td>6733.0</td>\n",
       "      <td>1874.0</td>\n",
       "      <td>141.0</td>\n",
       "      <td>8748.0</td>\n",
       "      <td>77.0</td>\n",
       "      <td>21.4</td>\n",
       "      <td>1.6</td>\n",
       "    </tr>\n",
       "    <tr>\n",
       "      <th>4</th>\n",
       "      <td>AL</td>\n",
       "      <td>Blount County</td>\n",
       "      <td>0.814</td>\n",
       "      <td>22808.0</td>\n",
       "      <td>2150.0</td>\n",
       "      <td>426.0</td>\n",
       "      <td>25384.0</td>\n",
       "      <td>89.9</td>\n",
       "      <td>8.5</td>\n",
       "      <td>1.7</td>\n",
       "    </tr>\n",
       "  </tbody>\n",
       "</table>\n",
       "</div>"
      ],
      "text/plain": [
       "  State          County  Votes_Norm  Trump_Votes  Hillary_Votes  \\\n",
       "0    AL  Autauga County       0.494      18110.0         5908.0   \n",
       "1    AL  Baldwin County       0.578      72780.0        18409.0   \n",
       "2    AL  Barbour County       0.056       5431.0         4848.0   \n",
       "3    AL     Bibb County       0.556       6733.0         1874.0   \n",
       "4    AL   Blount County       0.814      22808.0         2150.0   \n",
       "\n",
       "   Independent_Votes  Total_Votes  Trump_Perc  Hillary_Perc  Independent_Perc  \n",
       "0              643.0      24661.0        73.4          24.0               2.6  \n",
       "1             2901.0      94090.0        77.4          19.6               3.1  \n",
       "2              111.0      10390.0        52.3          46.7               1.1  \n",
       "3              141.0       8748.0        77.0          21.4               1.6  \n",
       "4              426.0      25384.0        89.9           8.5               1.7  "
      ]
     },
     "execution_count": 11,
     "metadata": {},
     "output_type": "execute_result"
    }
   ],
   "source": [
    "df_votes.head()"
   ]
  },
  {
   "cell_type": "markdown",
   "metadata": {},
   "source": [
    "BRIEF COMPARISON"
   ]
  },
  {
   "cell_type": "code",
   "execution_count": 12,
   "metadata": {
    "collapsed": false
   },
   "outputs": [
    {
     "name": "stdout",
     "output_type": "stream",
     "text": [
      "                 VOTES     DISTANCE   COMPLETE\n",
      "number of counties 3107 3107 3108\n",
      "number of states: 48 48 48\n"
     ]
    }
   ],
   "source": [
    "df_votes.sort_values(by=['State', 'County'])\n",
    "df_distance.sort_values(by=['State', 'County'])\n",
    "df_complete.sort_values(by=['State', 'County'])\n",
    "\n",
    "\n",
    "print '                 VOTES     DISTANCE   COMPLETE'\n",
    "print 'number of counties', len(df_votes), len(df_distance), len(df_complete)\n",
    "print 'number of states:', len(df_votes['State'].unique()), len(df_distance['State'].unique()), len(df_complete['State'].unique())"
   ]
  },
  {
   "cell_type": "code",
   "execution_count": null,
   "metadata": {
    "collapsed": true
   },
   "outputs": [],
   "source": []
  },
  {
   "cell_type": "markdown",
   "metadata": {
    "collapsed": false
   },
   "source": [
    "FIX DUPLICATES AND DELETE A COUNTY FROM VOTES (Broomfield County CO)"
   ]
  },
  {
   "cell_type": "code",
   "execution_count": 93,
   "metadata": {
    "collapsed": false
   },
   "outputs": [],
   "source": [
    "df_distance = df_distance.drop(df_distance.index[2780])\n",
    "df_distance = df_distance.drop(df_distance.index[2809])\n",
    "df_votes = df_votes.drop(df_votes.index[223])"
   ]
  },
  {
   "cell_type": "code",
   "execution_count": 95,
   "metadata": {
    "collapsed": false
   },
   "outputs": [],
   "source": [
    "df_distance = df_distance.reset_index(drop=True)\n",
    "df_votes = df_votes.reset_index(drop=True)"
   ]
  },
  {
   "cell_type": "code",
   "execution_count": 21,
   "metadata": {
    "collapsed": false
   },
   "outputs": [
    {
     "data": {
      "text/plain": [
       "(216          Adams County\n",
       " 217        Alamosa County\n",
       " 218       Arapahoe County\n",
       " 219      Archuleta County\n",
       " 220           Baca County\n",
       " 221           Bent County\n",
       " 222        Boulder County\n",
       " 223     Broomfield County\n",
       " 224        Chaffee County\n",
       " 225       Cheyenne County\n",
       " 226    Clear Creek County\n",
       " 227        Conejos County\n",
       " 228       Costilla County\n",
       " 229        Crowley County\n",
       " 230         Custer County\n",
       " 231          Delta County\n",
       " 232         Denver County\n",
       " 233        Dolores County\n",
       " 234        Douglas County\n",
       " 235          Eagle County\n",
       " Name: County, dtype: object, 215                      adams county\n",
       " 216                    alamosa county\n",
       " 217                   arapahoe county\n",
       " 218                  archuleta county\n",
       " 219                       baca county\n",
       " 220                       bent county\n",
       " 221                    boulder county\n",
       " 222    broomfield, city and county of\n",
       " 223                    chaffee county\n",
       " 224                   cheyenne county\n",
       " 225                clear creek county\n",
       " 226                    conejos county\n",
       " 227                   costilla county\n",
       " 228                    crowley county\n",
       " 229                     custer county\n",
       " 230                      delta county\n",
       " 231        denver, city and county of\n",
       " 232                    dolores county\n",
       " 233                    douglas county\n",
       " 234                      eagle county\n",
       " Name: County, dtype: object)"
      ]
     },
     "execution_count": 21,
     "metadata": {},
     "output_type": "execute_result"
    }
   ],
   "source": [
    "df_votes[df_votes['State'] == 'CO']['County'][:20],  df_distance[df_distance['State'] == 'CO']['County'][:20]"
   ]
  },
  {
   "cell_type": "code",
   "execution_count": 13,
   "metadata": {
    "collapsed": false
   },
   "outputs": [
    {
     "name": "stdout",
     "output_type": "stream",
     "text": [
      "1 ------------\n",
      "CO\n",
      "64 63\n",
      "\n",
      "VA\n",
      "133 134\n",
      "\n",
      "2 -------------\n",
      "CO\n",
      "64 63\n",
      "\n",
      "VA\n",
      "133 134\n",
      "\n"
     ]
    }
   ],
   "source": [
    "# check whether states have the same number of counties\n",
    "print '1 ------------'\n",
    "states = df_votes['State'].unique()\n",
    "for s in states:\n",
    "\n",
    "        vote =  len(df_votes[df_votes['State'] == s])\n",
    "        dist =  len(df_distance[df_distance['State'] == s])\n",
    "        \n",
    "        if vote != dist:\n",
    "            print s\n",
    "            print vote, dist\n",
    "            print \"\"\n",
    "            \n",
    "print '2 -------------'\n",
    "states = df_distance['State'].unique()\n",
    "for s in states:\n",
    "\n",
    "        vote =  len(df_votes[df_votes['State'] == s])\n",
    "        dist =  len(df_distance[df_distance['State'] == s])\n",
    "        \n",
    "        if vote != dist:\n",
    "            print s\n",
    "            print vote, dist\n",
    "            print \"\""
   ]
  },
  {
   "cell_type": "code",
   "execution_count": 19,
   "metadata": {
    "collapsed": false
   },
   "outputs": [
    {
     "data": {
      "text/html": [
       "<div>\n",
       "<table border=\"1\" class=\"dataframe\">\n",
       "  <thead>\n",
       "    <tr style=\"text-align: right;\">\n",
       "      <th></th>\n",
       "      <th>State</th>\n",
       "      <th>County</th>\n",
       "      <th>Votes_Norm</th>\n",
       "      <th>Number_Votes</th>\n",
       "    </tr>\n",
       "  </thead>\n",
       "  <tbody>\n",
       "    <tr>\n",
       "      <th>221</th>\n",
       "      <td>CO</td>\n",
       "      <td>Bent County</td>\n",
       "      <td>0.309</td>\n",
       "      <td>1892.0</td>\n",
       "    </tr>\n",
       "    <tr>\n",
       "      <th>222</th>\n",
       "      <td>CO</td>\n",
       "      <td>Boulder County</td>\n",
       "      <td>-0.487</td>\n",
       "      <td>176735.0</td>\n",
       "    </tr>\n",
       "    <tr>\n",
       "      <th>223</th>\n",
       "      <td>CO</td>\n",
       "      <td>Broomfield County</td>\n",
       "      <td>-0.141</td>\n",
       "      <td>37342.0</td>\n",
       "    </tr>\n",
       "    <tr>\n",
       "      <th>224</th>\n",
       "      <td>CO</td>\n",
       "      <td>Chaffee County</td>\n",
       "      <td>0.046</td>\n",
       "      <td>10999.0</td>\n",
       "    </tr>\n",
       "    <tr>\n",
       "      <th>225</th>\n",
       "      <td>CO</td>\n",
       "      <td>Cheyenne County</td>\n",
       "      <td>0.723</td>\n",
       "      <td>1076.0</td>\n",
       "    </tr>\n",
       "  </tbody>\n",
       "</table>\n",
       "</div>"
      ],
      "text/plain": [
       "    State             County  Votes_Norm  Number_Votes\n",
       "221    CO        Bent County       0.309        1892.0\n",
       "222    CO     Boulder County      -0.487      176735.0\n",
       "223    CO  Broomfield County      -0.141       37342.0\n",
       "224    CO     Chaffee County       0.046       10999.0\n",
       "225    CO    Cheyenne County       0.723        1076.0"
      ]
     },
     "execution_count": 19,
     "metadata": {},
     "output_type": "execute_result"
    }
   ],
   "source": []
  },
  {
   "cell_type": "code",
   "execution_count": 14,
   "metadata": {
    "collapsed": false
   },
   "outputs": [],
   "source": [
    "df_votes.to_csv('data/final/votes_clean.csv')\n",
    "df_distance.to_csv('data/final/distance_clean.csv')"
   ]
  },
  {
   "cell_type": "markdown",
   "metadata": {
    "collapsed": true
   },
   "source": [
    "DATA LOCATION"
   ]
  },
  {
   "cell_type": "code",
   "execution_count": 133,
   "metadata": {
    "collapsed": false
   },
   "outputs": [
    {
     "data": {
      "text/plain": [
       "3107"
      ]
     },
     "execution_count": 133,
     "metadata": {},
     "output_type": "execute_result"
    }
   ],
   "source": [
    "df_location = pd.read_csv('data/location.csv')\n",
    "len(df_location)"
   ]
  },
  {
   "cell_type": "code",
   "execution_count": 134,
   "metadata": {
    "collapsed": false
   },
   "outputs": [
    {
     "name": "stdout",
     "output_type": "stream",
     "text": [
      "1 ------------\n"
     ]
    }
   ],
   "source": [
    "# check whether states have the same number of counties\n",
    "print '1 ------------'\n",
    "states = df_location['state'].unique()\n",
    "for s in states:\n",
    "\n",
    "        vote =  len(df_location[df_location['state'] == s])\n",
    "        dist =  len(df_complete[df_complete['State'] == s])\n",
    "        \n",
    "        if vote != dist:\n",
    "            print s\n",
    "            print vote, dist\n",
    "            print \"\""
   ]
  },
  {
   "cell_type": "code",
   "execution_count": 135,
   "metadata": {
    "collapsed": false
   },
   "outputs": [
    {
     "data": {
      "text/plain": [
       "(215          Adams\n",
       " 216        Alamosa\n",
       " 217       Arapahoe\n",
       " 218      Archuleta\n",
       " 219           Baca\n",
       " 220           Bent\n",
       " 221        Boulder\n",
       " 222        Chaffee\n",
       " 223       Cheyenne\n",
       " 224    Clear Creek\n",
       " 225        Conejos\n",
       " 226       Costilla\n",
       " 227        Crowley\n",
       " 228         Custer\n",
       " 229          Delta\n",
       " 230         Denver\n",
       " 231        Dolores\n",
       " 232        Douglas\n",
       " 233          Eagle\n",
       " 234        El Paso\n",
       " Name: county, dtype: object, 244                      Adams County\n",
       " 245                    Alamosa County\n",
       " 246                   Arapahoe County\n",
       " 247                  Archuleta County\n",
       " 248                       Baca County\n",
       " 249                       Bent County\n",
       " 250                    Boulder County\n",
       " 251    Broomfield, City and County of\n",
       " 252                    Chaffee County\n",
       " 253                   Cheyenne County\n",
       " 254                Clear Creek County\n",
       " 255                    Conejos County\n",
       " 256                   Costilla County\n",
       " 257                    Crowley County\n",
       " 258                     Custer County\n",
       " 259                      Delta County\n",
       " 260        Denver, City and County of\n",
       " 261                    Dolores County\n",
       " 262                    Douglas County\n",
       " 263                      Eagle County\n",
       " Name: County, dtype: object)"
      ]
     },
     "execution_count": 135,
     "metadata": {},
     "output_type": "execute_result"
    }
   ],
   "source": [
    "df_location[df_location['state'] == 'CO']['county'][:20],  df_complete[df_complete['State'] == 'CO']['County'][:20]"
   ]
  },
  {
   "cell_type": "code",
   "execution_count": 131,
   "metadata": {
    "collapsed": false
   },
   "outputs": [],
   "source": [
    "df_complete = df_complete.drop(df_complete.index[251])"
   ]
  },
  {
   "cell_type": "code",
   "execution_count": 132,
   "metadata": {
    "collapsed": true
   },
   "outputs": [],
   "source": [
    "df_complete.to_csv('data/*complete_edited.csv')"
   ]
  },
  {
   "cell_type": "code",
   "execution_count": null,
   "metadata": {
    "collapsed": true
   },
   "outputs": [],
   "source": []
  }
 ],
 "metadata": {
  "anaconda-cloud": {},
  "kernelspec": {
   "display_name": "Python [conda root]",
   "language": "python",
   "name": "conda-root-py"
  },
  "language_info": {
   "codemirror_mode": {
    "name": "ipython",
    "version": 2
   },
   "file_extension": ".py",
   "mimetype": "text/x-python",
   "name": "python",
   "nbconvert_exporter": "python",
   "pygments_lexer": "ipython2",
   "version": "2.7.12"
  }
 },
 "nbformat": 4,
 "nbformat_minor": 1
}
