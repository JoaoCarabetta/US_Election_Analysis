{
 "cells": [
  {
   "cell_type": "code",
   "execution_count": 77,
   "metadata": {
    "collapsed": true
   },
   "outputs": [],
   "source": [
    "import pandas as pd\n",
    "import numpy as np\n",
    "import seaborn"
   ]
  },
  {
   "cell_type": "code",
   "execution_count": null,
   "metadata": {
    "collapsed": true
   },
   "outputs": [],
   "source": []
  },
  {
   "cell_type": "code",
   "execution_count": 78,
   "metadata": {
    "collapsed": false
   },
   "outputs": [],
   "source": [
    "df_distance = pd.read_csv('data/county_distances.csv')\n",
    "def lower(x):\n",
    "    return x.lower()\n",
    "df_distance['county'] = df_distance['county'].apply(lower)"
   ]
  },
  {
   "cell_type": "code",
   "execution_count": 79,
   "metadata": {
    "collapsed": false
   },
   "outputs": [],
   "source": [
    "s2abr = pd.read_csv('data/state_to_abbr.csv')\n",
    "s2abr['state'] = s2abr['state'].apply(lower)\n",
    "s2abr = s2abr.set_index('state')\n",
    "s2abr = s2abr.to_dict()['abbr']"
   ]
  },
  {
   "cell_type": "code",
   "execution_count": null,
   "metadata": {
    "collapsed": false
   },
   "outputs": [],
   "source": []
  },
  {
   "cell_type": "code",
   "execution_count": 121,
   "metadata": {
    "collapsed": false
   },
   "outputs": [],
   "source": [
    "df_votes_raw = pd.read_csv('data/normalised_votes.csv')"
   ]
  },
  {
   "cell_type": "code",
   "execution_count": 122,
   "metadata": {
    "collapsed": false
   },
   "outputs": [],
   "source": [
    "df_votes_raw['State'] = df_votes_raw['State'].map(lambda x: x.replace('-', ' '))\n",
    "df_votes_raw['State'] = df_votes_raw['State'].map(s2abr)\n",
    "df_votes = df_votes_raw "
   ]
  },
  {
   "cell_type": "code",
   "execution_count": 134,
   "metadata": {
    "collapsed": false
   },
   "outputs": [
    {
     "name": "stdout",
     "output_type": "stream",
     "text": [
      "                 VOTES     DISTANCE\n",
      "number of counties 3014 3108\n",
      "number of states: 48 48\n"
     ]
    }
   ],
   "source": [
    "print '                 VOTES     DISTANCE'\n",
    "print 'number of counties', len(df_votes), len(df_distance)\n",
    "print 'number of states:', len(df_votes['State'].unique()), len(df_distance['state'].unique())"
   ]
  },
  {
   "cell_type": "code",
   "execution_count": 132,
   "metadata": {
    "collapsed": false
   },
   "outputs": [
    {
     "data": {
      "text/plain": [
       "{'HI', 'LA'}"
      ]
     },
     "execution_count": 132,
     "metadata": {},
     "output_type": "execute_result"
    }
   ],
   "source": [
    "a = df_votes['State'].unique()\n",
    "b = df_distance['state'].unique()\n",
    "\n",
    "set(b) ^ set(a)"
   ]
  },
  {
   "cell_type": "code",
   "execution_count": 124,
   "metadata": {
    "collapsed": false
   },
   "outputs": [
    {
     "name": "stdout",
     "output_type": "stream",
     "text": [
      "1 ------------\n",
      "CA\n",
      "68 58\n",
      "\n",
      "CO\n",
      "64 63\n",
      "\n",
      "HI\n",
      "4 0\n",
      "\n",
      "MD\n",
      "23 24\n",
      "\n",
      "MO\n",
      "114 115\n",
      "\n",
      "NV\n",
      "16 17\n",
      "\n",
      "VA\n",
      "93 135\n",
      "\n",
      "WV\n",
      "55 0\n",
      "\n",
      "WI\n",
      "72 56\n",
      "\n",
      "WY\n",
      "23 0\n",
      "\n",
      "2 -------------\n",
      "CA\n",
      "68 58\n",
      "\n",
      "CO\n",
      "64 63\n",
      "\n",
      "LA\n",
      "0 64\n",
      "\n",
      "MD\n",
      "23 24\n",
      "\n",
      "MO\n",
      "114 115\n",
      "\n",
      "NV\n",
      "16 17\n",
      "\n"
     ]
    },
    {
     "name": "stderr",
     "output_type": "stream",
     "text": [
      "/Users/Admin/anaconda/lib/python2.7/site-packages/ipykernel/__main__.py:6: UserWarning: Boolean Series key will be reindexed to match DataFrame index.\n",
      "/Users/Admin/anaconda/lib/python2.7/site-packages/ipykernel/__main__.py:18: UserWarning: Boolean Series key will be reindexed to match DataFrame index.\n"
     ]
    },
    {
     "name": "stdout",
     "output_type": "stream",
     "text": [
      "VA\n",
      "93 135\n",
      "\n",
      "WI\n",
      "72 56\n",
      "\n",
      "WV\n",
      "55 0\n",
      "\n",
      "WY\n",
      "23 0\n",
      "\n"
     ]
    }
   ],
   "source": [
    "print '1 ------------'\n",
    "states = df_votes['State'].unique()\n",
    "for s in states:\n",
    "\n",
    "        vote =  len(df_votes[df_votes['State'] == s])\n",
    "        dist =  len(df_votes[df_distance['state'] == s])\n",
    "        \n",
    "        if vote != dist:\n",
    "            print s\n",
    "            print vote, dist\n",
    "            print \"\"\n",
    "            \n",
    "print '2 -------------'\n",
    "states = df_distance['state'].unique()\n",
    "for s in states:\n",
    "\n",
    "        vote =  len(df_votes[df_votes['State'] == s])\n",
    "        dist =  len(df_votes[df_distance['state'] == s])\n",
    "        \n",
    "        if vote != dist:\n",
    "            print s\n",
    "            print vote, dist\n",
    "            print \"\""
   ]
  },
  {
   "cell_type": "code",
   "execution_count": null,
   "metadata": {
    "collapsed": true
   },
   "outputs": [],
   "source": []
  }
 ],
 "metadata": {
  "anaconda-cloud": {},
  "kernelspec": {
   "display_name": "Python [conda root]",
   "language": "python",
   "name": "conda-root-py"
  },
  "language_info": {
   "codemirror_mode": {
    "name": "ipython",
    "version": 2
   },
   "file_extension": ".py",
   "mimetype": "text/x-python",
   "name": "python",
   "nbconvert_exporter": "python",
   "pygments_lexer": "ipython2",
   "version": "2.7.12"
  }
 },
 "nbformat": 4,
 "nbformat_minor": 1
}
