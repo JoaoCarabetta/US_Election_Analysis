{
 "cells": [
  {
   "cell_type": "code",
   "execution_count": 7,
   "metadata": {
    "collapsed": true
   },
   "outputs": [],
   "source": [
    "import pandas as pd\n",
    "import numpy as np\n",
    "import math\n",
    "import random"
   ]
  },
  {
   "cell_type": "code",
   "execution_count": 8,
   "metadata": {
    "collapsed": false
   },
   "outputs": [
    {
     "data": {
      "text/html": [
       "<div>\n",
       "<table border=\"1\" class=\"dataframe\">\n",
       "  <thead>\n",
       "    <tr style=\"text-align: right;\">\n",
       "      <th></th>\n",
       "      <th>State</th>\n",
       "      <th>County</th>\n",
       "      <th>Votes_Norm</th>\n",
       "      <th>Trump_Votes</th>\n",
       "      <th>Hillary_Votes</th>\n",
       "      <th>Independent_Votes</th>\n",
       "      <th>Total_Votes</th>\n",
       "      <th>Trump_Perc</th>\n",
       "      <th>Hillary_Perc</th>\n",
       "      <th>Independent_Perc</th>\n",
       "      <th>Rank</th>\n",
       "      <th>Population</th>\n",
       "      <th>latitude</th>\n",
       "      <th>longitude</th>\n",
       "      <th>distance_100000</th>\n",
       "      <th>distance_300000</th>\n",
       "      <th>distance_500000</th>\n",
       "      <th>distance_1000000</th>\n",
       "    </tr>\n",
       "  </thead>\n",
       "  <tbody>\n",
       "    <tr>\n",
       "      <th>0.0</th>\n",
       "      <td>AL</td>\n",
       "      <td>Autauga County</td>\n",
       "      <td>0.494</td>\n",
       "      <td>18110</td>\n",
       "      <td>5908</td>\n",
       "      <td>643</td>\n",
       "      <td>24661</td>\n",
       "      <td>73.4</td>\n",
       "      <td>24.0</td>\n",
       "      <td>2.6</td>\n",
       "      <td>907.0</td>\n",
       "      <td>55514.0</td>\n",
       "      <td>32.524961</td>\n",
       "      <td>-86.629505</td>\n",
       "      <td>55.468394</td>\n",
       "      <td>120.387228</td>\n",
       "      <td>120.387228</td>\n",
       "      <td>656.514912</td>\n",
       "    </tr>\n",
       "    <tr>\n",
       "      <th>1.0</th>\n",
       "      <td>AL</td>\n",
       "      <td>Baldwin County</td>\n",
       "      <td>0.578</td>\n",
       "      <td>72780</td>\n",
       "      <td>18409</td>\n",
       "      <td>2901</td>\n",
       "      <td>94090</td>\n",
       "      <td>77.4</td>\n",
       "      <td>19.6</td>\n",
       "      <td>3.1</td>\n",
       "      <td>332.0</td>\n",
       "      <td>190790.0</td>\n",
       "      <td>30.607402</td>\n",
       "      <td>-87.718027</td>\n",
       "      <td>0.000000</td>\n",
       "      <td>36.620510</td>\n",
       "      <td>340.608832</td>\n",
       "      <td>601.274988</td>\n",
       "    </tr>\n",
       "    <tr>\n",
       "      <th>2.0</th>\n",
       "      <td>AL</td>\n",
       "      <td>Barbour County</td>\n",
       "      <td>0.056</td>\n",
       "      <td>5431</td>\n",
       "      <td>4848</td>\n",
       "      <td>111</td>\n",
       "      <td>10390</td>\n",
       "      <td>52.3</td>\n",
       "      <td>46.7</td>\n",
       "      <td>1.1</td>\n",
       "      <td>1523.0</td>\n",
       "      <td>27201.0</td>\n",
       "      <td>31.813697</td>\n",
       "      <td>-85.481079</td>\n",
       "      <td>74.924444</td>\n",
       "      <td>216.820215</td>\n",
       "      <td>234.120887</td>\n",
       "      <td>526.289453</td>\n",
       "    </tr>\n",
       "    <tr>\n",
       "      <th>3.0</th>\n",
       "      <td>AL</td>\n",
       "      <td>Bibb County</td>\n",
       "      <td>0.556</td>\n",
       "      <td>6733</td>\n",
       "      <td>1874</td>\n",
       "      <td>141</td>\n",
       "      <td>8748</td>\n",
       "      <td>77.0</td>\n",
       "      <td>21.4</td>\n",
       "      <td>1.6</td>\n",
       "      <td>1707.0</td>\n",
       "      <td>22597.0</td>\n",
       "      <td>33.032728</td>\n",
       "      <td>-87.080731</td>\n",
       "      <td>45.862509</td>\n",
       "      <td>65.199386</td>\n",
       "      <td>65.199386</td>\n",
       "      <td>681.752585</td>\n",
       "    </tr>\n",
       "    <tr>\n",
       "      <th>4.0</th>\n",
       "      <td>AL</td>\n",
       "      <td>Blount County</td>\n",
       "      <td>0.814</td>\n",
       "      <td>22808</td>\n",
       "      <td>2150</td>\n",
       "      <td>426</td>\n",
       "      <td>25384</td>\n",
       "      <td>89.9</td>\n",
       "      <td>8.5</td>\n",
       "      <td>1.7</td>\n",
       "      <td>882.0</td>\n",
       "      <td>57826.0</td>\n",
       "      <td>33.951944</td>\n",
       "      <td>-86.582932</td>\n",
       "      <td>40.717787</td>\n",
       "      <td>47.727390</td>\n",
       "      <td>47.727390</td>\n",
       "      <td>612.043635</td>\n",
       "    </tr>\n",
       "  </tbody>\n",
       "</table>\n",
       "</div>"
      ],
      "text/plain": [
       "    State          County  Votes_Norm  Trump_Votes  Hillary_Votes  \\\n",
       "0.0    AL  Autauga County       0.494        18110           5908   \n",
       "1.0    AL  Baldwin County       0.578        72780          18409   \n",
       "2.0    AL  Barbour County       0.056         5431           4848   \n",
       "3.0    AL     Bibb County       0.556         6733           1874   \n",
       "4.0    AL   Blount County       0.814        22808           2150   \n",
       "\n",
       "     Independent_Votes  Total_Votes  Trump_Perc  Hillary_Perc  \\\n",
       "0.0                643        24661        73.4          24.0   \n",
       "1.0               2901        94090        77.4          19.6   \n",
       "2.0                111        10390        52.3          46.7   \n",
       "3.0                141         8748        77.0          21.4   \n",
       "4.0                426        25384        89.9           8.5   \n",
       "\n",
       "     Independent_Perc    Rank  Population   latitude  longitude  \\\n",
       "0.0               2.6   907.0     55514.0  32.524961 -86.629505   \n",
       "1.0               3.1   332.0    190790.0  30.607402 -87.718027   \n",
       "2.0               1.1  1523.0     27201.0  31.813697 -85.481079   \n",
       "3.0               1.6  1707.0     22597.0  33.032728 -87.080731   \n",
       "4.0               1.7   882.0     57826.0  33.951944 -86.582932   \n",
       "\n",
       "     distance_100000  distance_300000  distance_500000  distance_1000000  \n",
       "0.0        55.468394       120.387228       120.387228        656.514912  \n",
       "1.0         0.000000        36.620510       340.608832        601.274988  \n",
       "2.0        74.924444       216.820215       234.120887        526.289453  \n",
       "3.0        45.862509        65.199386        65.199386        681.752585  \n",
       "4.0        40.717787        47.727390        47.727390        612.043635  "
      ]
     },
     "execution_count": 8,
     "metadata": {},
     "output_type": "execute_result"
    }
   ],
   "source": [
    "df = pd.read_csv('data/final/all_clean.csv', index_col='Unnamed: 0')\n",
    "\n",
    "df.head()"
   ]
  },
  {
   "cell_type": "code",
   "execution_count": 29,
   "metadata": {
    "collapsed": false
   },
   "outputs": [],
   "source": [
    "df['Angle'] = np.nan\n",
    "\n",
    "for i, row in df.iterrows():\n",
    "    ang = row['Votes_Norm'] / 4 + 0.5\n",
    "    \n",
    "    if ang < 0.5:\n",
    "        if random.choice([1, -1]) == -1:  \n",
    "            ang = (-1) * ang + 0.5\n",
    "    if ang > 0.5:\n",
    "        if random.choice([1, -1]) == -1: \n",
    "            ang = (-1) * ang + 1.5\n",
    "            \n",
    "    df.loc[i, 'Angle'] = ang"
   ]
  },
  {
   "cell_type": "code",
   "execution_count": 31,
   "metadata": {
    "collapsed": false
   },
   "outputs": [
    {
     "data": {
      "text/html": [
       "<div>\n",
       "<table border=\"1\" class=\"dataframe\">\n",
       "  <thead>\n",
       "    <tr style=\"text-align: right;\">\n",
       "      <th></th>\n",
       "      <th>Angle</th>\n",
       "      <th>Votes_Norm</th>\n",
       "    </tr>\n",
       "  </thead>\n",
       "  <tbody>\n",
       "    <tr>\n",
       "      <th>2.0</th>\n",
       "      <td>0.98600</td>\n",
       "      <td>0.056</td>\n",
       "    </tr>\n",
       "    <tr>\n",
       "      <th>17.0</th>\n",
       "      <td>0.98675</td>\n",
       "      <td>0.053</td>\n",
       "    </tr>\n",
       "    <tr>\n",
       "      <th>36.0</th>\n",
       "      <td>0.01800</td>\n",
       "      <td>-0.072</td>\n",
       "    </tr>\n",
       "    <tr>\n",
       "      <th>45.0</th>\n",
       "      <td>0.49125</td>\n",
       "      <td>-0.035</td>\n",
       "    </tr>\n",
       "    <tr>\n",
       "      <th>56.0</th>\n",
       "      <td>0.00475</td>\n",
       "      <td>-0.019</td>\n",
       "    </tr>\n",
       "  </tbody>\n",
       "</table>\n",
       "</div>"
      ],
      "text/plain": [
       "        Angle  Votes_Norm\n",
       "2.0   0.98600       0.056\n",
       "17.0  0.98675       0.053\n",
       "36.0  0.01800      -0.072\n",
       "45.0  0.49125      -0.035\n",
       "56.0  0.00475      -0.019"
      ]
     },
     "execution_count": 31,
     "metadata": {},
     "output_type": "execute_result"
    }
   ],
   "source": [
    "df[abs(df['Votes_Norm']) < 0.1][['Angle', 'Votes_Norm']].head()"
   ]
  },
  {
   "cell_type": "code",
   "execution_count": 33,
   "metadata": {
    "collapsed": true
   },
   "outputs": [],
   "source": [
    "df.to_csv('data/final/all_clean.csv')"
   ]
  },
  {
   "cell_type": "code",
   "execution_count": null,
   "metadata": {
    "collapsed": true
   },
   "outputs": [],
   "source": []
  }
 ],
 "metadata": {
  "anaconda-cloud": {},
  "kernelspec": {
   "display_name": "Python [conda root]",
   "language": "python",
   "name": "conda-root-py"
  },
  "language_info": {
   "codemirror_mode": {
    "name": "ipython",
    "version": 2
   },
   "file_extension": ".py",
   "mimetype": "text/x-python",
   "name": "python",
   "nbconvert_exporter": "python",
   "pygments_lexer": "ipython2",
   "version": "2.7.12"
  }
 },
 "nbformat": 4,
 "nbformat_minor": 1
}
