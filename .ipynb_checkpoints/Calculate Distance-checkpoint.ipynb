{
 "cells": [
  {
   "cell_type": "markdown",
   "metadata": {},
   "source": [
    "Imports"
   ]
  },
  {
   "cell_type": "code",
   "execution_count": 2,
   "metadata": {
    "collapsed": true
   },
   "outputs": [],
   "source": [
    "import pandas as pd\n",
    "import math\n",
    "import numpy as np\n",
    "import seaborn\n",
    "from geopy.distance import vincenty"
   ]
  },
  {
   "cell_type": "markdown",
   "metadata": {},
   "source": [
    "Get data and basic filters"
   ]
  },
  {
   "cell_type": "code",
   "execution_count": 58,
   "metadata": {
    "collapsed": false
   },
   "outputs": [
    {
     "name": "stdout",
     "output_type": "stream",
     "text": [
      "48\n"
     ]
    },
    {
     "data": {
      "text/html": [
       "<div>\n",
       "<table border=\"1\" class=\"dataframe\">\n",
       "  <thead>\n",
       "    <tr style=\"text-align: right;\">\n",
       "      <th></th>\n",
       "      <th>County</th>\n",
       "      <th>State</th>\n",
       "      <th>Rank</th>\n",
       "      <th>Population</th>\n",
       "      <th>latitude</th>\n",
       "      <th>longitude</th>\n",
       "    </tr>\n",
       "  </thead>\n",
       "  <tbody>\n",
       "    <tr>\n",
       "      <th>0</th>\n",
       "      <td>Autauga County</td>\n",
       "      <td>AL</td>\n",
       "      <td>907</td>\n",
       "      <td>55,514</td>\n",
       "      <td>32.524961</td>\n",
       "      <td>-86.629505</td>\n",
       "    </tr>\n",
       "    <tr>\n",
       "      <th>1</th>\n",
       "      <td>Baldwin County</td>\n",
       "      <td>AL</td>\n",
       "      <td>332</td>\n",
       "      <td>190,790</td>\n",
       "      <td>30.607402</td>\n",
       "      <td>-87.718027</td>\n",
       "    </tr>\n",
       "    <tr>\n",
       "      <th>2</th>\n",
       "      <td>Barbour County</td>\n",
       "      <td>AL</td>\n",
       "      <td>1523</td>\n",
       "      <td>27,201</td>\n",
       "      <td>31.813697</td>\n",
       "      <td>-85.481079</td>\n",
       "    </tr>\n",
       "    <tr>\n",
       "      <th>3</th>\n",
       "      <td>Bibb County</td>\n",
       "      <td>AL</td>\n",
       "      <td>1707</td>\n",
       "      <td>22,597</td>\n",
       "      <td>33.032728</td>\n",
       "      <td>-87.080731</td>\n",
       "    </tr>\n",
       "    <tr>\n",
       "      <th>4</th>\n",
       "      <td>Blount County</td>\n",
       "      <td>AL</td>\n",
       "      <td>882</td>\n",
       "      <td>57,826</td>\n",
       "      <td>33.951944</td>\n",
       "      <td>-86.582932</td>\n",
       "    </tr>\n",
       "  </tbody>\n",
       "</table>\n",
       "</div>"
      ],
      "text/plain": [
       "           County State  Rank Population   latitude  longitude\n",
       "0  Autauga County    AL   907     55,514  32.524961 -86.629505\n",
       "1  Baldwin County    AL   332    190,790  30.607402 -87.718027\n",
       "2  Barbour County    AL  1523     27,201  31.813697 -85.481079\n",
       "3     Bibb County    AL  1707     22,597  33.032728 -87.080731\n",
       "4   Blount County    AL   882     57,826  33.951944 -86.582932"
      ]
     },
     "execution_count": 58,
     "metadata": {},
     "output_type": "execute_result"
    }
   ],
   "source": [
    "df_county_raw = pd.read_csv('data/location_population.csv', index_col='Unnamed: 0')\n",
    "print len(df_county_raw['State'].unique())\n",
    "df_county_raw = df_county_raw.reset_index(drop=True)\n",
    "df_county_raw.head()"
   ]
  },
  {
   "cell_type": "markdown",
   "metadata": {},
   "source": [
    "Advanced Filtering"
   ]
  },
  {
   "cell_type": "code",
   "execution_count": 36,
   "metadata": {
    "collapsed": false
   },
   "outputs": [],
   "source": [
    "def to_float(x):\n",
    "    x = x.replace(',', '')\n",
    "    return float(x)\n",
    "df_county_raw[['Population']] = df_county_raw['Population'].apply(to_float)"
   ]
  },
  {
   "cell_type": "markdown",
   "metadata": {},
   "source": [
    "Slice of data, cities bigger than ..."
   ]
  },
  {
   "cell_type": "code",
   "execution_count": 37,
   "metadata": {
    "collapsed": false
   },
   "outputs": [],
   "source": [
    "\n"
   ]
  },
  {
   "cell_type": "markdown",
   "metadata": {
    "collapsed": false
   },
   "source": [
    "Calculate Distances Algorithm"
   ]
  },
  {
   "cell_type": "code",
   "execution_count": null,
   "metadata": {
    "collapsed": false
   },
   "outputs": [],
   "source": []
  },
  {
   "cell_type": "code",
   "execution_count": 53,
   "metadata": {
    "collapsed": false
   },
   "outputs": [
    {
     "data": {
      "text/plain": [
       "3107"
      ]
     },
     "execution_count": 53,
     "metadata": {},
     "output_type": "execute_result"
    }
   ],
   "source": [
    "len(df_county_raw)"
   ]
  },
  {
   "cell_type": "code",
   "execution_count": null,
   "metadata": {
    "collapsed": false
   },
   "outputs": [],
   "source": []
  },
  {
   "cell_type": "code",
   "execution_count": 77,
   "metadata": {
    "collapsed": false
   },
   "outputs": [],
   "source": [
    "def get_distance(county, df_city, rng, rng2=0):\n",
    "\n",
    "        p1 = [county['latitude'], county['longitude']]\n",
    "\n",
    "        # calculate region to search for big cities\n",
    "\n",
    "        out_square_lat = [county['latitude'] + rng, county['latitude'] - rng]\n",
    "        out_square_lon = [county['longitude'] + rng, county['longitude'] - rng]\n",
    "\n",
    "        in_square_lat = [county['latitude'] + rng2, county['latitude'] - rng2]\n",
    "        in_square_lon = [county['longitude'] + rng2, county['longitude'] - rng2]\n",
    "\n",
    "        j = 0\n",
    "        s_dist = 100000\n",
    "        for k, city in df_city.iterrows():\n",
    "            p2 = [city['latitude'], city['longitude']]\n",
    "\n",
    "            if (out_square_lat[1] < p2[0] < out_square_lat[0]) & (out_square_lon[1] < p2[1] < out_square_lon[0]):\n",
    "                if not ((in_square_lat[1] < p2[0] < in_square_lat[0]) & (in_square_lon[1] < p2[1] < in_square_lon[0])):\n",
    "                    j += 1\n",
    "\n",
    "                dist = vincenty(p1, p2).km\n",
    "\n",
    "                if dist < s_dist:\n",
    "                    s_dist = dist\n",
    "\n",
    "        return s_dist, j"
   ]
  },
  {
   "cell_type": "code",
   "execution_count": null,
   "metadata": {
    "collapsed": false
   },
   "outputs": [],
   "source": [
    "df_county = df_county_raw\n",
    "#cities_bigger_than = [100000, 300000, 500000, 1000000]\n",
    "cities_bigger_than = [100000]\n",
    "search_range = [5, 10, 15, 20, 30, 50, 100, 1000]\n",
    "for bigger_than in cities_bigger_than:\n",
    "    print 'bigger', bigger_than\n",
    "    \n",
    "    df_city = df_county_raw[df_county_raw['Population'] >= bigger_than] #get counties bigger than\n",
    "    df_county['distance_{}'.format(bigger_than)] = np.nan #create empty column\n",
    "    #print df_city\n",
    "    for i, county in df_county.iterrows():\n",
    "        \n",
    "        if not county['Population'] >= bigger_than:\n",
    "\n",
    "            for k in range(len(search_range)):\n",
    "                if k == 0:\n",
    "                    smaller_distance, j = get_distance(county, df_city, search_range[k])\n",
    "                else:\n",
    "                    print search_range[k]\n",
    "                    smaller_distance, j = get_distance(county, df_city, search_range[k], search_range[k-1])\n",
    "\n",
    "                if j:\n",
    "                    break\n",
    "        else:\n",
    "            smaller_distance = 0\n",
    "        if i % 10 == 0:\n",
    "            print i\n",
    "        \n",
    "        df_county['distance_{}'.format(bigger_than)].iloc[i] = smaller_distance\n",
    "df_county.head()"
   ]
  },
  {
   "cell_type": "code",
   "execution_count": 57,
   "metadata": {
    "collapsed": false
   },
   "outputs": [],
   "source": [
    "del df_county['distance_[100000, 300000, 500000, 1000000]']"
   ]
  },
  {
   "cell_type": "code",
   "execution_count": 59,
   "metadata": {
    "collapsed": false
   },
   "outputs": [],
   "source": [
    "df_county.to_csv('data/county_distances.csv', index=False)"
   ]
  },
  {
   "cell_type": "code",
   "execution_count": null,
   "metadata": {
    "collapsed": true
   },
   "outputs": [],
   "source": []
  }
 ],
 "metadata": {
  "anaconda-cloud": {},
  "kernelspec": {
   "display_name": "Python [conda root]",
   "language": "python",
   "name": "conda-root-py"
  },
  "language_info": {
   "codemirror_mode": {
    "name": "ipython",
    "version": 2
   },
   "file_extension": ".py",
   "mimetype": "text/x-python",
   "name": "python",
   "nbconvert_exporter": "python",
   "pygments_lexer": "ipython2",
   "version": "2.7.12"
  }
 },
 "nbformat": 4,
 "nbformat_minor": 1
}
