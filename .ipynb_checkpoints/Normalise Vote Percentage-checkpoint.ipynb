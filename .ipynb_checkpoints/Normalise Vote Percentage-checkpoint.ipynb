{
 "cells": [
  {
   "cell_type": "code",
   "execution_count": 45,
   "metadata": {
    "collapsed": true
   },
   "outputs": [],
   "source": [
    "import pandas as pd\n",
    "import numpy as np\n",
    "import seaborn"
   ]
  },
  {
   "cell_type": "code",
   "execution_count": 46,
   "metadata": {
    "collapsed": false
   },
   "outputs": [
    {
     "data": {
      "text/plain": [
       "1851"
      ]
     },
     "execution_count": 46,
     "metadata": {},
     "output_type": "execute_result"
    }
   ],
   "source": [
    "df_county_result = pd.read_csv('data/raw/vote_by_county.csv')\n",
    "del df_county_result['Unnamed: 0']\n",
    "len(df_county_result['County'].unique())"
   ]
  },
  {
   "cell_type": "code",
   "execution_count": 51,
   "metadata": {
    "collapsed": false
   },
   "outputs": [
    {
     "data": {
      "text/plain": [
       "State         object\n",
       "County        object\n",
       "Candidate     object\n",
       "Votes        float64\n",
       "NVotes       float64\n",
       "dtype: object"
      ]
     },
     "execution_count": 51,
     "metadata": {},
     "output_type": "execute_result"
    }
   ],
   "source": [
    "df_county_result.drop_duplicates(subset=['State', 'County', 'Candidate', 'Votes'])\n",
    "df_county_result.head()\n",
    "df_county_result.dtypes"
   ]
  },
  {
   "cell_type": "code",
   "execution_count": null,
   "metadata": {
    "collapsed": false
   },
   "outputs": [],
   "source": [
    "def norm(x):\n",
    "    x = x.drop_duplicates()\n",
    "    trump = x[x['Candidate'] == 'Trump']\n",
    "    hillary = x[x['Candidate'] == 'Clinton']\n",
    "    \n",
    "    trump_votes =  float(trump['NVotes'])\n",
    "    hillary_votes =  float(hillary['NVotes'])\n",
    "    total_votes = x['NVotes'].sum()\n",
    "    \n",
    "\n",
    "    independent_votes = total_votes - trump_votes - hillary_votes\n",
    "   \n",
    "    \n",
    "    trump_perc =  float(trump['Votes'])\n",
    "    hillary_perc =  float(hillary['Votes'])\n",
    "    independent_perc = x['Votes'].sum() - (trump_perc + hillary_perc)\n",
    "    \n",
    "    votes_norm = (trump_perc - hillary_perc) / 100\n",
    "    \n",
    "    try:\n",
    "        return (trump_votes, hillary_votes, independent_votes, total_votes, trump_perc, hillary_perc, independent_perc, votes_norm)\n",
    "    except:\n",
    "        print x"
   ]
  },
  {
   "cell_type": "code",
   "execution_count": null,
   "metadata": {
    "collapsed": false
   },
   "outputs": [],
   "source": [
    "df_county_norm = df_county_result.groupby(['State', 'County']).apply(norm)"
   ]
  },
  {
   "cell_type": "code",
   "execution_count": null,
   "metadata": {
    "collapsed": false
   },
   "outputs": [],
   "source": [
    "df_county_norm = df_county_norm.reset_index()\n",
    "df_county_norm = df_county_norm.rename(columns={0: 'Votes_Norm'})\n",
    "df_county_norm.head()"
   ]
  },
  {
   "cell_type": "code",
   "execution_count": null,
   "metadata": {
    "collapsed": false
   },
   "outputs": [
    {
     "name": "stderr",
     "output_type": "stream",
     "text": [
      "/Users/Admin/anaconda/lib/python2.7/site-packages/ipykernel/__main__.py:11: SettingWithCopyWarning: \n",
      "A value is trying to be set on a copy of a slice from a DataFrame\n",
      "\n",
      "See the caveats in the documentation: http://pandas.pydata.org/pandas-docs/stable/indexing.html#indexing-view-versus-copy\n",
      "/Users/Admin/anaconda/lib/python2.7/site-packages/ipykernel/__main__.py:12: SettingWithCopyWarning: \n",
      "A value is trying to be set on a copy of a slice from a DataFrame\n",
      "\n",
      "See the caveats in the documentation: http://pandas.pydata.org/pandas-docs/stable/indexing.html#indexing-view-versus-copy\n",
      "/Users/Admin/anaconda/lib/python2.7/site-packages/ipykernel/__main__.py:13: SettingWithCopyWarning: \n",
      "A value is trying to be set on a copy of a slice from a DataFrame\n",
      "\n",
      "See the caveats in the documentation: http://pandas.pydata.org/pandas-docs/stable/indexing.html#indexing-view-versus-copy\n",
      "/Users/Admin/anaconda/lib/python2.7/site-packages/ipykernel/__main__.py:14: SettingWithCopyWarning: \n",
      "A value is trying to be set on a copy of a slice from a DataFrame\n",
      "\n",
      "See the caveats in the documentation: http://pandas.pydata.org/pandas-docs/stable/indexing.html#indexing-view-versus-copy\n",
      "/Users/Admin/anaconda/lib/python2.7/site-packages/ipykernel/__main__.py:15: SettingWithCopyWarning: \n",
      "A value is trying to be set on a copy of a slice from a DataFrame\n",
      "\n",
      "See the caveats in the documentation: http://pandas.pydata.org/pandas-docs/stable/indexing.html#indexing-view-versus-copy\n",
      "/Users/Admin/anaconda/lib/python2.7/site-packages/ipykernel/__main__.py:16: SettingWithCopyWarning: \n",
      "A value is trying to be set on a copy of a slice from a DataFrame\n",
      "\n",
      "See the caveats in the documentation: http://pandas.pydata.org/pandas-docs/stable/indexing.html#indexing-view-versus-copy\n",
      "/Users/Admin/anaconda/lib/python2.7/site-packages/ipykernel/__main__.py:17: SettingWithCopyWarning: \n",
      "A value is trying to be set on a copy of a slice from a DataFrame\n",
      "\n",
      "See the caveats in the documentation: http://pandas.pydata.org/pandas-docs/stable/indexing.html#indexing-view-versus-copy\n",
      "/Users/Admin/anaconda/lib/python2.7/site-packages/ipykernel/__main__.py:18: SettingWithCopyWarning: \n",
      "A value is trying to be set on a copy of a slice from a DataFrame\n",
      "\n",
      "See the caveats in the documentation: http://pandas.pydata.org/pandas-docs/stable/indexing.html#indexing-view-versus-copy\n"
     ]
    }
   ],
   "source": [
    "df_county_norm['Trump_Votes'] = np.nan\n",
    "df_county_norm['Hillary_Votes'] = np.nan\n",
    "df_county_norm['Independent_Votes'] = np.nan\n",
    "df_county_norm['Total_Votes'] = np.nan\n",
    "df_county_norm['Trump_Perc'] = np.nan\n",
    "df_county_norm['Hillary_Perc'] = np.nan\n",
    "df_county_norm['Independent_Perc'] = np.nan\n",
    "\n",
    "for i, row in df_county_norm.iterrows():\n",
    "    \n",
    "    df_county_norm['Trump_Votes'][i] = row['Votes_Norm'][0] \n",
    "    df_county_norm['Hillary_Votes'][i] = row['Votes_Norm'][1] \n",
    "    df_county_norm['Independent_Votes'][i] = row['Votes_Norm'][2] \n",
    "    df_county_norm['Total_Votes'][i] = row['Votes_Norm'][3] \n",
    "    df_county_norm['Trump_Perc'][i] = row['Votes_Norm'][4]\n",
    "    df_county_norm['Hillary_Perc'][i] = row['Votes_Norm'][5] \n",
    "    df_county_norm['Independent_Perc'][i] = row['Votes_Norm'][6] \n",
    "    df_county_norm['Votes_Norm'][i] = row['Votes_Norm'][7] \n",
    "    \n",
    "df_county_norm"
   ]
  },
  {
   "cell_type": "code",
   "execution_count": 14,
   "metadata": {
    "collapsed": false
   },
   "outputs": [
    {
     "data": {
      "text/html": [
       "<div>\n",
       "<table border=\"1\" class=\"dataframe\">\n",
       "  <thead>\n",
       "    <tr style=\"text-align: right;\">\n",
       "      <th></th>\n",
       "      <th>State</th>\n",
       "      <th>County</th>\n",
       "      <th>Votes_Norm</th>\n",
       "      <th>Number_Votes</th>\n",
       "    </tr>\n",
       "  </thead>\n",
       "  <tbody>\n",
       "    <tr>\n",
       "      <th>176</th>\n",
       "      <td>california</td>\n",
       "      <td>Los Angeles County</td>\n",
       "      <td>-0.481</td>\n",
       "      <td>2240323.0</td>\n",
       "    </tr>\n",
       "    <tr>\n",
       "      <th>580</th>\n",
       "      <td>illinois</td>\n",
       "      <td>Cook County</td>\n",
       "      <td>-0.53</td>\n",
       "      <td>2055215.0</td>\n",
       "    </tr>\n",
       "    <tr>\n",
       "      <th>2593</th>\n",
       "      <td>texas</td>\n",
       "      <td>Harris County</td>\n",
       "      <td>-0.124</td>\n",
       "      <td>1302887.0</td>\n",
       "    </tr>\n",
       "    <tr>\n",
       "      <th>75</th>\n",
       "      <td>arizona</td>\n",
       "      <td>Maricopa County</td>\n",
       "      <td>0.034</td>\n",
       "      <td>1201934.0</td>\n",
       "    </tr>\n",
       "    <tr>\n",
       "      <th>333</th>\n",
       "      <td>florida</td>\n",
       "      <td>Miami-Dade County</td>\n",
       "      <td>-0.296</td>\n",
       "      <td>978670.0</td>\n",
       "    </tr>\n",
       "  </tbody>\n",
       "</table>\n",
       "</div>"
      ],
      "text/plain": [
       "           State              County Votes_Norm  Number_Votes\n",
       "176   california  Los Angeles County     -0.481     2240323.0\n",
       "580     illinois         Cook County      -0.53     2055215.0\n",
       "2593       texas       Harris County     -0.124     1302887.0\n",
       "75       arizona     Maricopa County      0.034     1201934.0\n",
       "333      florida   Miami-Dade County     -0.296      978670.0"
      ]
     },
     "execution_count": 14,
     "metadata": {},
     "output_type": "execute_result"
    }
   ],
   "source": [
    "df_county_norm.sort_values(by='Number_Votes', ascending=False).head()"
   ]
  },
  {
   "cell_type": "code",
   "execution_count": null,
   "metadata": {
    "collapsed": true
   },
   "outputs": [],
   "source": []
  },
  {
   "cell_type": "code",
   "execution_count": null,
   "metadata": {
    "collapsed": false
   },
   "outputs": [],
   "source": []
  },
  {
   "cell_type": "code",
   "execution_count": 15,
   "metadata": {
    "collapsed": true
   },
   "outputs": [],
   "source": [
    "df_county_norm.to_csv('data/normalised_votes.csv', index=False)"
   ]
  },
  {
   "cell_type": "code",
   "execution_count": null,
   "metadata": {
    "collapsed": false
   },
   "outputs": [],
   "source": []
  },
  {
   "cell_type": "code",
   "execution_count": null,
   "metadata": {
    "collapsed": true
   },
   "outputs": [],
   "source": []
  }
 ],
 "metadata": {
  "anaconda-cloud": {},
  "kernelspec": {
   "display_name": "Python [default]",
   "language": "python",
   "name": "python2"
  },
  "language_info": {
   "codemirror_mode": {
    "name": "ipython",
    "version": 2
   },
   "file_extension": ".py",
   "mimetype": "text/x-python",
   "name": "python",
   "nbconvert_exporter": "python",
   "pygments_lexer": "ipython2",
   "version": "2.7.12"
  }
 },
 "nbformat": 4,
 "nbformat_minor": 1
}
