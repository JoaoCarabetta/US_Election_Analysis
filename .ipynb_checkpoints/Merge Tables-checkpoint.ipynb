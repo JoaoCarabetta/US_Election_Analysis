{
 "cells": [
  {
   "cell_type": "markdown",
   "metadata": {},
   "source": [
    "Distric of Columbia as DC"
   ]
  },
  {
   "cell_type": "code",
   "execution_count": 56,
   "metadata": {
    "collapsed": true
   },
   "outputs": [],
   "source": [
    "import pandas as pd\n",
    "import numpy as np\n",
    "import seaborn"
   ]
  },
  {
   "cell_type": "code",
   "execution_count": 57,
   "metadata": {
    "collapsed": true
   },
   "outputs": [],
   "source": [
    "def lower(x):\n",
    "    return x.lower()\n",
    "def change(x):\n",
    "    if x in s2abr.keys():\n",
    "        return s2abr[x] \n",
    "    else:\n",
    "        return 'DC'"
   ]
  },
  {
   "cell_type": "code",
   "execution_count": 58,
   "metadata": {
    "collapsed": false
   },
   "outputs": [],
   "source": [
    "s2abr = pd.read_csv('data/state_to_abbr.csv')\n",
    "s2abr['state'] = s2abr['state'].apply(lower)\n",
    "s2abr = s2abr.set_index('state')\n",
    "s2abr = s2abr.to_dict()['abbr']"
   ]
  },
  {
   "cell_type": "markdown",
   "metadata": {},
   "source": [
    "READ AND CLEAN COMPLETE COUNTY LISTY"
   ]
  },
  {
   "cell_type": "code",
   "execution_count": 84,
   "metadata": {
    "collapsed": false
   },
   "outputs": [
    {
     "name": "stdout",
     "output_type": "stream",
     "text": [
      "3143\n"
     ]
    }
   ],
   "source": [
    "df_complete = pd.read_csv('data/raw/complete_county.csv')\n",
    "print len(df_complete)\n",
    "\n",
    "# change state name to abbreviation\n",
    "df_complete['State'] = df_complete['State'].map(lambda x: x.replace('_', ''))\n",
    "df_complete['State'] =  df_complete['State'].map(lower)\n",
    "df_complete['State'] = df_complete['State'].map(change)"
   ]
  },
  {
   "cell_type": "code",
   "execution_count": 85,
   "metadata": {
    "collapsed": false
   },
   "outputs": [
    {
     "data": {
      "text/plain": [
       "3108"
      ]
     },
     "execution_count": 85,
     "metadata": {},
     "output_type": "execute_result"
    }
   ],
   "source": [
    "#remove alaska and hawaii and columbia\n",
    "df_complete = df_complete[df_complete['State'] != 'HI']\n",
    "df_complete = df_complete[df_complete['State'] != 'AK']\n",
    "df_complete = df_complete[df_complete['State'] != 'DC']\n",
    "len(df_complete)"
   ]
  },
  {
   "cell_type": "markdown",
   "metadata": {
    "collapsed": false
   },
   "source": [
    "READ AND CLEAN DISTANCE"
   ]
  },
  {
   "cell_type": "code",
   "execution_count": 86,
   "metadata": {
    "collapsed": false
   },
   "outputs": [
    {
     "data": {
      "text/html": [
       "<div>\n",
       "<table border=\"1\" class=\"dataframe\">\n",
       "  <thead>\n",
       "    <tr style=\"text-align: right;\">\n",
       "      <th></th>\n",
       "      <th>state</th>\n",
       "      <th>county</th>\n",
       "      <th>latitude</th>\n",
       "      <th>longitude</th>\n",
       "      <th>distance_100000</th>\n",
       "      <th>distance_300000</th>\n",
       "      <th>distance_500000</th>\n",
       "      <th>distance_1000000</th>\n",
       "    </tr>\n",
       "  </thead>\n",
       "  <tbody>\n",
       "    <tr>\n",
       "      <th>0</th>\n",
       "      <td>AL</td>\n",
       "      <td>autauga</td>\n",
       "      <td>32.524787</td>\n",
       "      <td>-86.637706</td>\n",
       "      <td>39.958761</td>\n",
       "      <td>39.958761</td>\n",
       "      <td>404.785584</td>\n",
       "      <td>614.110614</td>\n",
       "    </tr>\n",
       "    <tr>\n",
       "      <th>1</th>\n",
       "      <td>AL</td>\n",
       "      <td>baldwin</td>\n",
       "      <td>30.587202</td>\n",
       "      <td>-87.719056</td>\n",
       "      <td>221.087345</td>\n",
       "      <td>221.087345</td>\n",
       "      <td>221.087345</td>\n",
       "      <td>823.038182</td>\n",
       "    </tr>\n",
       "    <tr>\n",
       "      <th>2</th>\n",
       "      <td>AL</td>\n",
       "      <td>barbour</td>\n",
       "      <td>31.816169</td>\n",
       "      <td>-85.418069</td>\n",
       "      <td>99.515924</td>\n",
       "      <td>99.515924</td>\n",
       "      <td>473.425102</td>\n",
       "      <td>568.407367</td>\n",
       "    </tr>\n",
       "    <tr>\n",
       "      <th>3</th>\n",
       "      <td>AL</td>\n",
       "      <td>bibb</td>\n",
       "      <td>33.032728</td>\n",
       "      <td>-87.080731</td>\n",
       "      <td>107.680990</td>\n",
       "      <td>107.680990</td>\n",
       "      <td>349.282260</td>\n",
       "      <td>624.912551</td>\n",
       "    </tr>\n",
       "    <tr>\n",
       "      <th>4</th>\n",
       "      <td>AL</td>\n",
       "      <td>blount</td>\n",
       "      <td>33.951944</td>\n",
       "      <td>-86.582932</td>\n",
       "      <td>180.475554</td>\n",
       "      <td>180.475554</td>\n",
       "      <td>246.963357</td>\n",
       "      <td>545.787028</td>\n",
       "    </tr>\n",
       "  </tbody>\n",
       "</table>\n",
       "</div>"
      ],
      "text/plain": [
       "  state   county   latitude  longitude  distance_100000  distance_300000  \\\n",
       "0    AL  autauga  32.524787 -86.637706        39.958761        39.958761   \n",
       "1    AL  baldwin  30.587202 -87.719056       221.087345       221.087345   \n",
       "2    AL  barbour  31.816169 -85.418069        99.515924        99.515924   \n",
       "3    AL     bibb  33.032728 -87.080731       107.680990       107.680990   \n",
       "4    AL   blount  33.951944 -86.582932       180.475554       180.475554   \n",
       "\n",
       "   distance_500000  distance_1000000  \n",
       "0       404.785584        614.110614  \n",
       "1       221.087345        823.038182  \n",
       "2       473.425102        568.407367  \n",
       "3       349.282260        624.912551  \n",
       "4       246.963357        545.787028  "
      ]
     },
     "execution_count": 86,
     "metadata": {},
     "output_type": "execute_result"
    }
   ],
   "source": [
    "df_distance = pd.read_csv('data/county_distances.csv')\n",
    "df_distance['county'] = df_distance['county'].apply(lower)\n",
    "df_distance.head()"
   ]
  },
  {
   "cell_type": "markdown",
   "metadata": {},
   "source": [
    "READ AND CLEAN VOTES"
   ]
  },
  {
   "cell_type": "code",
   "execution_count": 87,
   "metadata": {
    "collapsed": false
   },
   "outputs": [],
   "source": [
    "df_votes_raw = pd.read_csv('data/normalised_votes.csv')\n",
    "df_votes_raw = df_votes_raw.drop_duplicates()"
   ]
  },
  {
   "cell_type": "code",
   "execution_count": 88,
   "metadata": {
    "collapsed": false
   },
   "outputs": [],
   "source": [
    "df_votes_raw['State'] = df_votes_raw['State'].map(lambda x: x.replace('-', ' '))\n",
    "df_votes_raw['State'] = df_votes_raw['State'].map(s2abr)\n",
    "df_votes = df_votes_raw "
   ]
  },
  {
   "cell_type": "code",
   "execution_count": 89,
   "metadata": {
    "collapsed": true
   },
   "outputs": [],
   "source": [
    "df_votes = df_votes[df_votes['State'] != 'HI']\n",
    "df_votes = df_votes[df_votes['State'] != 'AK']\n",
    "df_votes = df_votes[df_votes['State'] != 'DC']"
   ]
  },
  {
   "cell_type": "code",
   "execution_count": 90,
   "metadata": {
    "collapsed": false
   },
   "outputs": [
    {
     "data": {
      "text/html": [
       "<div>\n",
       "<table border=\"1\" class=\"dataframe\">\n",
       "  <thead>\n",
       "    <tr style=\"text-align: right;\">\n",
       "      <th></th>\n",
       "      <th>State</th>\n",
       "      <th>County</th>\n",
       "      <th>Votes_Norm</th>\n",
       "      <th>Number_Votes</th>\n",
       "    </tr>\n",
       "  </thead>\n",
       "  <tbody>\n",
       "    <tr>\n",
       "      <th>0</th>\n",
       "      <td>AL</td>\n",
       "      <td>Autauga County</td>\n",
       "      <td>0.494</td>\n",
       "      <td>24661.0</td>\n",
       "    </tr>\n",
       "    <tr>\n",
       "      <th>1</th>\n",
       "      <td>AL</td>\n",
       "      <td>Baldwin County</td>\n",
       "      <td>0.578</td>\n",
       "      <td>94090.0</td>\n",
       "    </tr>\n",
       "    <tr>\n",
       "      <th>2</th>\n",
       "      <td>AL</td>\n",
       "      <td>Barbour County</td>\n",
       "      <td>0.056</td>\n",
       "      <td>10390.0</td>\n",
       "    </tr>\n",
       "    <tr>\n",
       "      <th>3</th>\n",
       "      <td>AL</td>\n",
       "      <td>Bibb County</td>\n",
       "      <td>0.556</td>\n",
       "      <td>8748.0</td>\n",
       "    </tr>\n",
       "    <tr>\n",
       "      <th>4</th>\n",
       "      <td>AL</td>\n",
       "      <td>Blount County</td>\n",
       "      <td>0.814</td>\n",
       "      <td>25384.0</td>\n",
       "    </tr>\n",
       "  </tbody>\n",
       "</table>\n",
       "</div>"
      ],
      "text/plain": [
       "  State          County  Votes_Norm  Number_Votes\n",
       "0    AL  Autauga County       0.494       24661.0\n",
       "1    AL  Baldwin County       0.578       94090.0\n",
       "2    AL  Barbour County       0.056       10390.0\n",
       "3    AL     Bibb County       0.556        8748.0\n",
       "4    AL   Blount County       0.814       25384.0"
      ]
     },
     "execution_count": 90,
     "metadata": {},
     "output_type": "execute_result"
    }
   ],
   "source": [
    "df_votes.head()"
   ]
  },
  {
   "cell_type": "markdown",
   "metadata": {},
   "source": [
    "BRIEF COMPARISON"
   ]
  },
  {
   "cell_type": "code",
   "execution_count": 91,
   "metadata": {
    "collapsed": false
   },
   "outputs": [
    {
     "name": "stdout",
     "output_type": "stream",
     "text": [
      "                 VOTES     DISTANCE   COMPLETE\n",
      "number of counties 3107 3108 3108\n",
      "number of states: 48 48 48\n"
     ]
    }
   ],
   "source": [
    "df_votes.sort_values(by=['State', 'County'])\n",
    "df_distance.sort_values(by=['state', 'county'])\n",
    "df_complete.sort_values(by=['State', 'County'])\n",
    "\n",
    "\n",
    "print '                 VOTES     DISTANCE   COMPLETE'\n",
    "print 'number of counties', len(df_votes), len(df_distance), len(df_complete)\n",
    "print 'number of states:', len(df_votes['State'].unique()), len(df_distance['state'].unique()), len(df_complete['State'].unique())"
   ]
  },
  {
   "cell_type": "markdown",
   "metadata": {
    "collapsed": false
   },
   "source": [
    "FIX DUPLICATES AND DELETE A COUNTY FROM VOTES (Broomfield County CO)"
   ]
  },
  {
   "cell_type": "code",
   "execution_count": 93,
   "metadata": {
    "collapsed": false
   },
   "outputs": [],
   "source": [
    "df_distance = df_distance.drop(df_distance.index[2780])\n",
    "df_distance = df_distance.drop(df_distance.index[2809])\n",
    "df_votes = df_votes.drop(df_votes.index[223])"
   ]
  },
  {
   "cell_type": "code",
   "execution_count": 95,
   "metadata": {
    "collapsed": false
   },
   "outputs": [],
   "source": [
    "df_distance = df_distance.reset_index(drop=True)\n",
    "df_votes = df_votes.reset_index(drop=True)"
   ]
  },
  {
   "cell_type": "code",
   "execution_count": 97,
   "metadata": {
    "collapsed": false
   },
   "outputs": [],
   "source": [
    "#df_votes[df_votes['State'] == 'CO']['County'][:20],  df_distance[df_distance['state'] == 'CO']['county'][:20]"
   ]
  },
  {
   "cell_type": "code",
   "execution_count": 96,
   "metadata": {
    "collapsed": false
   },
   "outputs": [
    {
     "name": "stdout",
     "output_type": "stream",
     "text": [
      "1 ------------\n",
      "2 -------------\n"
     ]
    }
   ],
   "source": [
    "# check whether states have the same number of counties\n",
    "print '1 ------------'\n",
    "states = df_votes['State'].unique()\n",
    "for s in states:\n",
    "\n",
    "        vote =  len(df_votes[df_votes['State'] == s])\n",
    "        dist =  len(df_distance[df_distance['state'] == s])\n",
    "        \n",
    "        if vote != dist:\n",
    "            print s\n",
    "            print vote, dist\n",
    "            print \"\"\n",
    "            \n",
    "print '2 -------------'\n",
    "states = df_distance['state'].unique()\n",
    "for s in states:\n",
    "\n",
    "        vote =  len(df_votes[df_votes['State'] == s])\n",
    "        dist =  len(df_distance[df_distance['state'] == s])\n",
    "        \n",
    "        if vote != dist:\n",
    "            print s\n",
    "            print vote, dist\n",
    "            print \"\""
   ]
  },
  {
   "cell_type": "code",
   "execution_count": 99,
   "metadata": {
    "collapsed": false
   },
   "outputs": [],
   "source": [
    "df_votes.to_csv('data/final/votes_clean.csv')\n",
    "df_distance.to_csv('data/final/distance_clean.csv')"
   ]
  },
  {
   "cell_type": "code",
   "execution_count": null,
   "metadata": {
    "collapsed": true
   },
   "outputs": [],
   "source": []
  }
 ],
 "metadata": {
  "anaconda-cloud": {},
  "kernelspec": {
   "display_name": "Python [conda root]",
   "language": "python",
   "name": "conda-root-py"
  },
  "language_info": {
   "codemirror_mode": {
    "name": "ipython",
    "version": 2
   },
   "file_extension": ".py",
   "mimetype": "text/x-python",
   "name": "python",
   "nbconvert_exporter": "python",
   "pygments_lexer": "ipython2",
   "version": "2.7.12"
  }
 },
 "nbformat": 4,
 "nbformat_minor": 1
}
