{
 "cells": [
  {
   "cell_type": "markdown",
   "metadata": {},
   "source": [
    "Imports"
   ]
  },
  {
   "cell_type": "code",
   "execution_count": 1,
   "metadata": {
    "collapsed": true
   },
   "outputs": [],
   "source": [
    "import pandas as pd\n",
    "import math\n",
    "import numpy as np\n",
    "import seaborn\n",
    "from geopy.distance import vincenty"
   ]
  },
  {
   "cell_type": "markdown",
   "metadata": {},
   "source": [
    "Get data and basic filters"
   ]
  },
  {
   "cell_type": "code",
   "execution_count": 49,
   "metadata": {
    "collapsed": false
   },
   "outputs": [],
   "source": [
    "df_city_raw = pd.read_csv('data/city_large.csv')\n",
    "df_city_raw = df_city_raw.dropna()\n",
    "\n",
    "df_county_raw = pd.read_csv('data/location.csv')\n",
    "del df_county_raw['index']\n",
    "#df_city.dtypes\n",
    "# df_city = df_city.drop_duplicates()"
   ]
  },
  {
   "cell_type": "markdown",
   "metadata": {},
   "source": [
    "Advanced Filtering"
   ]
  },
  {
   "cell_type": "code",
   "execution_count": 50,
   "metadata": {
    "collapsed": false
   },
   "outputs": [],
   "source": [
    "def to_float(x):\n",
    "    x = x.replace(',', '')\n",
    "    return float(x)\n",
    "df_city_raw[['Population']] = df_city_raw['Population'].apply(to_float)"
   ]
  },
  {
   "cell_type": "markdown",
   "metadata": {},
   "source": [
    "Slice of data, cities bigger than ..."
   ]
  },
  {
   "cell_type": "code",
   "execution_count": 51,
   "metadata": {
    "collapsed": false
   },
   "outputs": [],
   "source": [
    "cities_bigger_than = [100000, 300000, 500000, 1000000]\n"
   ]
  },
  {
   "cell_type": "markdown",
   "metadata": {
    "collapsed": false
   },
   "source": [
    "Calculate Distances Algorithm"
   ]
  },
  {
   "cell_type": "code",
   "execution_count": null,
   "metadata": {
    "collapsed": true
   },
   "outputs": [],
   "source": [
    "df_county = df_county_raw"
   ]
  },
  {
   "cell_type": "code",
   "execution_count": 42,
   "metadata": {
    "collapsed": false
   },
   "outputs": [],
   "source": []
  },
  {
   "cell_type": "code",
   "execution_count": null,
   "metadata": {
    "collapsed": false
   },
   "outputs": [],
   "source": []
  },
  {
   "cell_type": "code",
   "execution_count": 52,
   "metadata": {
    "collapsed": false
   },
   "outputs": [],
   "source": [
    "def get_distance(county, df_city, rng):\n",
    "\n",
    "        p1 = [county['latitude'], county['longitude']]\n",
    "\n",
    "        # calculate region to search for big cities\n",
    "        p1x = [county['latitude'] + rng, county['latitude'] - rng]\n",
    "        p1y = [county['longitude'] + rng, county['longitude'] - rng]\n",
    "\n",
    "        j = 0\n",
    "        s_dist = 100000\n",
    "        for k, city in df_city.iterrows():\n",
    "            p2 = [city['latitude'], city['longitude']]\n",
    "\n",
    "            if (p1x[1] < p2[0] < p1x[0]) & (p1y[1] < p2[1] < p1y[0]):\n",
    "                j += 1\n",
    "\n",
    "                dist = vincenty(p1, p2).km\n",
    "\n",
    "                if dist < s_dist:\n",
    "                    s_dist = dist\n",
    "\n",
    "        return s_dist, j"
   ]
  },
  {
   "cell_type": "code",
   "execution_count": 55,
   "metadata": {
    "collapsed": false
   },
   "outputs": [
    {
     "name": "stdout",
     "output_type": "stream",
     "text": [
      "bigger 100000\n",
      "bigger 300000\n",
      "bigger 500000\n",
      "bigger 1000000\n"
     ]
    }
   ],
   "source": [
    "df_county = df_county_raw\n",
    "for bigger_than in cities_bigger_than:\n",
    "    print 'bigger', bigger_than\n",
    "    \n",
    "    df_city = df_city_raw[df_city_raw['Population'] > bigger_than]\n",
    "    df_county['distance_{}'.format(bigger_than)] = np.nan #create empty column\n",
    "    \n",
    "    for i, county in df_county.iterrows():\n",
    "\n",
    "        for search_region in [5, 10, 15, 20, 30, 50, 100]:\n",
    "            smaller_distance, j = get_distance(county, df_city, search_region)\n",
    "            if j:\n",
    "                break\n",
    "\n",
    "        df_county['distance_{}'.format(bigger_than)].iloc[i] = smaller_distance\n",
    "    df_county"
   ]
  },
  {
   "cell_type": "code",
   "execution_count": 57,
   "metadata": {
    "collapsed": false
   },
   "outputs": [],
   "source": [
    "del df_county['distance_[100000, 300000, 500000, 1000000]']"
   ]
  },
  {
   "cell_type": "code",
   "execution_count": 59,
   "metadata": {
    "collapsed": false
   },
   "outputs": [],
   "source": [
    "df_county.to_csv('data/county_distances.csv', index=False)"
   ]
  },
  {
   "cell_type": "code",
   "execution_count": null,
   "metadata": {
    "collapsed": true
   },
   "outputs": [],
   "source": []
  }
 ],
 "metadata": {
  "anaconda-cloud": {},
  "kernelspec": {
   "display_name": "Python [conda root]",
   "language": "python",
   "name": "conda-root-py"
  },
  "language_info": {
   "codemirror_mode": {
    "name": "ipython",
    "version": 2
   },
   "file_extension": ".py",
   "mimetype": "text/x-python",
   "name": "python",
   "nbconvert_exporter": "python",
   "pygments_lexer": "ipython2",
   "version": "2.7.12"
  }
 },
 "nbformat": 4,
 "nbformat_minor": 1
}
