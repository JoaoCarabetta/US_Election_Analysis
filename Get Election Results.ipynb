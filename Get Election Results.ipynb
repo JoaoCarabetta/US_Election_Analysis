{
 "cells": [
  {
   "cell_type": "code",
   "execution_count": 7,
   "metadata": {
    "collapsed": true
   },
   "outputs": [],
   "source": [
    "import urllib2\n",
    "import time\n",
    "from bs4 import BeautifulSoup\n",
    "import pandas as pd\n",
    "\n",
    "def get_content1(url):\n",
    "\n",
    "    html = urllib2.urlopen(url)\n",
    "\n",
    "    return BeautifulSoup(html,\"lxml\")"
   ]
  },
  {
   "cell_type": "code",
   "execution_count": 49,
   "metadata": {
    "collapsed": false
   },
   "outputs": [],
   "source": [
    "from selenium import webdriver\n",
    "\n",
    "def get_content(url):\n",
    "    browser = webdriver.Chrome(\"/Users/Admin/Documents/WebDrivers/chromedriver\")\n",
    "    browser.get(url)\n",
    "    \n",
    "    # scroll down and wait\n",
    "    browser.execute_script(\"window.scrollTo(0, document.body.scrollHeight);\")\n",
    "    time.sleep(10)\n",
    "    \n",
    "    html = browser.page_source\n",
    "\n",
    "    return BeautifulSoup(html, \"lxml\"), browser"
   ]
  },
  {
   "cell_type": "code",
   "execution_count": null,
   "metadata": {
    "collapsed": false
   },
   "outputs": [],
   "source": []
  },
  {
   "cell_type": "code",
   "execution_count": 48,
   "metadata": {
    "collapsed": false,
    "scrolled": true
   },
   "outputs": [],
   "source": [
    "def get_counties(soup):\n",
    "    counties = []\n",
    "    for s in soup.findAll(\"div\", { \"class\" : \"title\" }):\n",
    "        county = s.string\n",
    "        if county != None:\n",
    "            if not 'Reporting' in county:\n",
    "                counties.append(str(s.string))\n",
    "    return counties"
   ]
  },
  {
   "cell_type": "code",
   "execution_count": 64,
   "metadata": {
    "collapsed": false
   },
   "outputs": [],
   "source": [
    "def data_candidate(df, soup, counties, state):\n",
    "    \n",
    "    candidate_vote = []\n",
    "    for i, t in enumerate(soup.findAll(\"table\", { \"class\" : \"results-table\" })[1:]):\n",
    "       \n",
    "        cand = []\n",
    "        for s in t.findAll(\"span\", { \"class\" : \"name-combo\" }):\n",
    "            cand.append(s.text.split()[-1])\n",
    "\n",
    "        number = []\n",
    "        for n in t.findAll(\"span\", { \"class\" : \"number\" }):\n",
    "            number.append(n.text.replace(\"%\", \"\"))\n",
    "        \n",
    "        votes = []\n",
    "        for v in t.findAll(\"td\", { \"class\" : \"results-popular\" }):\n",
    "\n",
    "            votes.append(float(v.text.replace(',','')))\n",
    "\n",
    "\n",
    "\n",
    "        for j in range(len(cand)):\n",
    "            candidate_vote.append([state, counties[i], cand[j], number[j], votes[j]]) \n",
    "            \n",
    "\n",
    "\n",
    "    temp_df = pd.DataFrame(candidate_vote, columns=['State', 'County', 'Candidate', 'Votes', 'NVotes'] )\n",
    "    print len(temp_df['County'].unique())\n",
    "\n",
    "    return df.append(temp_df)"
   ]
  },
  {
   "cell_type": "code",
   "execution_count": null,
   "metadata": {
    "collapsed": true
   },
   "outputs": [],
   "source": []
  },
  {
   "cell_type": "code",
   "execution_count": 40,
   "metadata": {
    "collapsed": false
   },
   "outputs": [],
   "source": [
    "df = pd.DataFrame(columns=['State', 'County', 'Candidate', 'Votes', 'NVotes'])"
   ]
  },
  {
   "cell_type": "code",
   "execution_count": 41,
   "metadata": {
    "collapsed": true
   },
   "outputs": [],
   "source": [
    "s2abr = pd.read_csv('data/state_to_abbr.csv')\n",
    "s2abr['state'] = s2abr['state'].apply(lower)\n",
    "s2abr = s2abr.set_index('state')\n",
    "s2abr = s2abr.to_dict()['abbr']"
   ]
  },
  {
   "cell_type": "code",
   "execution_count": 42,
   "metadata": {
    "collapsed": true
   },
   "outputs": [],
   "source": [
    "def lower(x):\n",
    "    return x.lower()\n",
    "def change(x):\n",
    "    if x in s2abr.keys():\n",
    "        return s2abr[x] \n",
    "    else:\n",
    "        return 'DC'"
   ]
  },
  {
   "cell_type": "code",
   "execution_count": 43,
   "metadata": {
    "collapsed": false
   },
   "outputs": [
    {
     "name": "stdout",
     "output_type": "stream",
     "text": [
      "3143\n"
     ]
    }
   ],
   "source": [
    "df_complete = pd.read_csv('data/raw/complete_county.csv')\n",
    "print len(df_complete)\n",
    "# change state name to abbreviation\n",
    "df_complete['State'] = df_complete['State'].map(lambda x: x.replace('_', ''))\n",
    "df_complete['State'] =  df_complete['State'].map(lower)\n",
    "df_complete['State'] = df_complete['State'].map(change)"
   ]
  },
  {
   "cell_type": "code",
   "execution_count": null,
   "metadata": {
    "collapsed": false
   },
   "outputs": [],
   "source": []
  },
  {
   "cell_type": "code",
   "execution_count": null,
   "metadata": {
    "collapsed": false
   },
   "outputs": [],
   "source": []
  },
  {
   "cell_type": "code",
   "execution_count": 65,
   "metadata": {
    "collapsed": false
   },
   "outputs": [
    {
     "name": "stdout",
     "output_type": "stream",
     "text": [
      "wyoming\n",
      "Expected counties: 23\n",
      "23\n",
      "colorado\n",
      "Expected counties: 64\n",
      "64\n",
      "washington\n",
      "Expected counties: 39\n",
      "39\n",
      "hawaii\n",
      "Expected counties: 5\n",
      "4\n",
      "tennessee\n",
      "Expected counties: 95\n",
      "95\n",
      "wisconsin\n",
      "Expected counties: 72\n",
      "72\n",
      "nevada\n",
      "Expected counties: 17\n",
      "17\n",
      "maine\n",
      "Expected counties: 16\n",
      "16\n",
      "north dakota\n",
      "Expected counties: 53\n",
      "53\n",
      "mississippi\n",
      "Expected counties: 82\n",
      "82\n",
      "south dakota\n",
      "Expected counties: 66\n",
      "66\n",
      "new jersey\n",
      "Expected counties: 21\n",
      "21\n",
      "oklahoma\n",
      "Expected counties: 77\n",
      "77\n",
      "delaware\n",
      "Expected counties: 3\n",
      "3\n",
      "minnesota\n",
      "Expected counties: 87\n",
      "87\n",
      "north carolina\n",
      "Expected counties: 100\n",
      "100\n",
      "illinois\n",
      "Expected counties: 102\n",
      "102\n",
      "new york\n",
      "Expected counties: 62\n",
      "62\n",
      "arkansas\n",
      "Expected counties: 75\n",
      "75\n",
      "indiana\n",
      "Expected counties: 92\n",
      "92\n",
      "maryland\n",
      "Expected counties: 24\n",
      "24\n",
      "louisiana\n",
      "Expected counties: 64\n",
      "64\n",
      "idaho\n",
      "Expected counties: 44\n",
      "44\n",
      "arizona\n",
      "Expected counties: 15\n",
      "15\n",
      "iowa\n",
      "Expected counties: 99\n",
      "99\n",
      "west virginia\n",
      "Expected counties: 55\n",
      "55\n",
      "michigan\n",
      "Expected counties: 83\n",
      "83\n",
      "kansas\n",
      "Expected counties: 105\n",
      "105\n",
      "utah\n",
      "Expected counties: 29\n",
      "29\n",
      "virginia\n",
      "Expected counties: 134\n",
      "133\n",
      "oregon\n",
      "Expected counties: 36\n",
      "36\n",
      "connecticut\n",
      "Expected counties: 8\n",
      "8\n",
      "montana\n",
      "Expected counties: 56\n",
      "56\n",
      "california\n",
      "Expected counties: 58\n",
      "58\n",
      "massachusetts\n",
      "Expected counties: 14\n",
      "14\n",
      "rhode island\n",
      "Expected counties: 5\n",
      "5\n",
      "vermont\n",
      "Expected counties: 14\n",
      "14\n",
      "georgia\n",
      "Expected counties: 159\n",
      "159\n",
      "pennsylvania\n",
      "Expected counties: 67\n",
      "67\n",
      "florida\n",
      "Expected counties: 67\n",
      "67\n",
      "alaska\n",
      "Expected counties: 29\n",
      "1\n",
      "kentucky\n",
      "Expected counties: 120\n",
      "120\n",
      "nebraska\n",
      "Expected counties: 93\n",
      "93\n",
      "new hampshire\n",
      "Expected counties: 10\n",
      "10\n",
      "texas\n",
      "Expected counties: 254\n",
      "254\n",
      "missouri\n",
      "Expected counties: 115\n",
      "115\n",
      "south carolina\n",
      "Expected counties: 46\n",
      "46\n",
      "ohio\n",
      "Expected counties: 88\n",
      "88\n",
      "alabama\n",
      "Expected counties: 67\n",
      "67\n",
      "new mexico\n",
      "Expected counties: 33\n",
      "33\n"
     ]
    }
   ],
   "source": [
    "for state in s2abr.keys():\n",
    "   \n",
    "    print state\n",
    "    print 'Expected counties:', len(df_complete[df_complete['State'] == s2abr[state]]['County'].unique())\n",
    "    \n",
    "    state = state.lower()\n",
    "    state = state.replace(\" \", \"-\")\n",
    "    \n",
    "    soup, browser = get_content(\"http://www.politico.com/2016-election/results/map/president/{}\".format(state))\n",
    "    counties = get_counties(soup)\n",
    "    df = data_candidate(df, soup, counties, state)\n",
    "    df.to_csv(\"data/raw/vote_by_county.csv\")\n",
    "    browser.quit()"
   ]
  },
  {
   "cell_type": "code",
   "execution_count": null,
   "metadata": {
    "collapsed": false
   },
   "outputs": [],
   "source": [
    "redo_list = ['virginia', ]"
   ]
  },
  {
   "cell_type": "code",
   "execution_count": null,
   "metadata": {
    "collapsed": true
   },
   "outputs": [],
   "source": []
  },
  {
   "cell_type": "code",
   "execution_count": null,
   "metadata": {
    "collapsed": false
   },
   "outputs": [],
   "source": []
  },
  {
   "cell_type": "code",
   "execution_count": null,
   "metadata": {
    "collapsed": true
   },
   "outputs": [],
   "source": []
  }
 ],
 "metadata": {
  "anaconda-cloud": {},
  "kernelspec": {
   "display_name": "Python [conda root]",
   "language": "python",
   "name": "conda-root-py"
  },
  "language_info": {
   "codemirror_mode": {
    "name": "ipython",
    "version": 2
   },
   "file_extension": ".py",
   "mimetype": "text/x-python",
   "name": "python",
   "nbconvert_exporter": "python",
   "pygments_lexer": "ipython2",
   "version": "2.7.12"
  }
 },
 "nbformat": 4,
 "nbformat_minor": 1
}
